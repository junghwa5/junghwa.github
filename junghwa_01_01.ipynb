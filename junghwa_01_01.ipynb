{
 "cells": [
  {
   "cell_type": "code",
   "execution_count": 1,
   "metadata": {},
   "outputs": [],
   "source": [
    "def get_prime_number(begin, end):\n",
    "    prime_number = []\n",
    "    if begin == 1:\n",
    "        begin += 1\n",
    "    for i in range(begin, end + 1):\n",
    "        num = True\n",
    "        for j in range(2, i):\n",
    "            if i % j == 0:\n",
    "                num = False\n",
    "                break\n",
    "        if num == True:\n",
    "            prime_number.append(i)\n",
    "    return prime_number"
   ]
  },
  {
   "cell_type": "code",
   "execution_count": 2,
   "metadata": {},
   "outputs": [
    {
     "name": "stdout",
     "output_type": "stream",
     "text": [
      "시작점을 입력해주세요 : 1\n",
      "종료점을 입력해주세요 : 15\n",
      "소수 리스트 : [2, 3, 5, 7, 11, 13]\n"
     ]
    }
   ],
   "source": [
    "begin = int(input(\"시작점을 입력해주세요 : \"))\n",
    "end = int(input(\"종료점을 입력해주세요 : \"))\n",
    "prime_number = get_prime_number(begin, end)\n",
    "print(\"소수 리스트 : \" + str(prime_number))"
   ]
  },
  {
   "cell_type": "code",
   "execution_count": null,
   "metadata": {},
   "outputs": [],
   "source": []
  }
 ],
 "metadata": {
  "kernelspec": {
   "display_name": "Python 3",
   "language": "python",
   "name": "python3"
  },
  "language_info": {
   "codemirror_mode": {
    "name": "ipython",
    "version": 3
   },
   "file_extension": ".py",
   "mimetype": "text/x-python",
   "name": "python",
   "nbconvert_exporter": "python",
   "pygments_lexer": "ipython3",
   "version": "3.7.1"
  }
 },
 "nbformat": 4,
 "nbformat_minor": 2
}
